{
 "cells": [
  {
   "cell_type": "code",
   "execution_count": 1,
   "id": "f4a16bcb-c6fb-44c6-ab3e-3ed48efa1809",
   "metadata": {},
   "outputs": [],
   "source": [
    "import os\n",
    "from dotenv import load_dotenv\n",
    "from openai import OpenAI\n",
    "import anthropic\n",
    "from IPython.display import Markdown, display, update_display"
   ]
  },
  {
   "cell_type": "code",
   "execution_count": null,
   "id": "fda235a1-70c4-4606-b8ba-80576c0e85f5",
   "metadata": {},
   "outputs": [],
   "source": [
    "import google.generativeai as genai"
   ]
  },
  {
   "cell_type": "code",
   "execution_count": 3,
   "id": "6cadd2d1-a9d7-461a-a55b-f54ff911a485",
   "metadata": {},
   "outputs": [
    {
     "name": "stdout",
     "output_type": "stream",
     "text": [
      "OpenAI API Key exists and begins ollama\n",
      "Anthropic API Key not set\n",
      "Google API Key exists and begins AIzaSyBt\n"
     ]
    }
   ],
   "source": [
    "# Load environment variables in a file called .env\n",
    "# Print the key prefixes to help with any debugging\n",
    "\n",
    "load_dotenv(override=True)\n",
    "openai_api_key = os.getenv('OPENAI_API_KEY')\n",
    "anthropic_api_key = os.getenv('ANTHROPIC_API_KEY')\n",
    "google_api_key = os.getenv('GEMINI_API_KEY')\n",
    "\n",
    "if openai_api_key:\n",
    "    print(f\"OpenAI API Key exists and begins {openai_api_key[:8]}\")\n",
    "else:\n",
    "    print(\"OpenAI API Key not set\")\n",
    "    \n",
    "if anthropic_api_key:\n",
    "    print(f\"Anthropic API Key exists and begins {anthropic_api_key[:7]}\")\n",
    "else:\n",
    "    print(\"Anthropic API Key not set\")\n",
    "\n",
    "if google_api_key:\n",
    "    print(f\"Google API Key exists and begins {google_api_key[:8]}\")\n",
    "else:\n",
    "    print(\"Google API Key not set\")"
   ]
  },
  {
   "cell_type": "code",
   "execution_count": 4,
   "id": "51679724-4c1a-4832-983c-bf0d43fb50dd",
   "metadata": {},
   "outputs": [],
   "source": [
    "system_message = \"You are an assistant that is great at telling jokes\"\n",
    "user_prompt = \"Tell a light-hearted joke for an audience of Data Scientists\""
   ]
  },
  {
   "cell_type": "code",
   "execution_count": 5,
   "id": "6ac69a4b-4a16-429f-b265-0f23b83d7f64",
   "metadata": {},
   "outputs": [],
   "source": [
    "prompts = [\n",
    "    {\"role\": \"system\", \"content\": system_message},\n",
    "    {\"role\": \"user\", \"content\": user_prompt}\n",
    "  ]"
   ]
  },
  {
   "cell_type": "code",
   "execution_count": null,
   "id": "682bd14e-da8b-4cc9-85f7-2b13794abc33",
   "metadata": {},
   "outputs": [
    {
     "name": "stdout",
     "output_type": "stream",
     "text": [
      "Why was the equal sign so humble? \n",
      "\n",
      "Because it knew it wasn't less than or greater than anyone else.\n",
      "\n"
     ]
    }
   ],
   "source": [
    "genai.configure(api_key=google_api_key)\n",
    "gemini = genai.GenerativeModel(\n",
    "    model_name='gemini-2.0-flash',\n",
    "    system_instruction=system_message\n",
    ")\n",
    "response = gemini.generate_content(user_prompt)\n",
    "print(response.text)"
   ]
  },
  {
   "cell_type": "code",
   "execution_count": null,
   "id": "6744e93e-7215-474d-a6d0-e8b97ba38b8e",
   "metadata": {},
   "outputs": [],
   "source": [
    "llama_model = \"llama3.2\"\n",
    "gemini_model = \"gemini-2.0-flash\"\n",
    "\n",
    "\n",
    "\n",
    "llama_system = \"You are a chatbot who is very argumentive on showing that Messi is the best player in the world. Your answer should be within 3 lines maximum.\"\n",
    "gemini_system = \"Argue why Ronaldo is clearly the greatest of all time. Use strong rhetoric, real examples, and dismiss counterarguments.\"\n",
    "\n",
    "\n",
    "llama_messages = [\"Ronaldo is overrated and can't dribble.\"]\n",
    "gemini_messages = [\"Oh really? Messi has never dominated like Ronaldo.\"]\n"
   ]
  },
  {
   "cell_type": "code",
   "execution_count": 8,
   "id": "5adbdb21-26ab-4688-9237-d7ff59b60517",
   "metadata": {},
   "outputs": [],
   "source": [
    "def call_llama():\n",
    "    openai = OpenAI(base_url='http://localhost:11434/v1', api_key='ollama')\n",
    "    messages = [{\"role\": \"system\", \"content\": llama_system}]\n",
    "    for llama, gemini in zip(llama_messages, gemini_messages):\n",
    "        messages.append({\"role\": \"assistant\", \"content\": llama})\n",
    "        messages.append({\"role\": \"user\", \"content\": gemini})\n",
    "    completion = openai.chat.completions.create(\n",
    "        model=llama_model,\n",
    "        messages=messages,\n",
    "        max_tokens=150 \n",
    "    )\n",
    "    return completion.choices[0].message.content"
   ]
  },
  {
   "cell_type": "code",
   "execution_count": 9,
   "id": "567000b9-0d0e-483d-a74f-3a2d7f013d03",
   "metadata": {},
   "outputs": [
    {
     "data": {
      "text/markdown": [
       "That's because you're watching records, not championships! Messiness, aka Messi, won 7 league titles, 4 Ballon d'Ors, and led Barcelona to an unprecedented treble in 2009."
      ],
      "text/plain": [
       "<IPython.core.display.Markdown object>"
      ]
     },
     "metadata": {},
     "output_type": "display_data"
    }
   ],
   "source": [
    "display(Markdown(call_llama()))"
   ]
  },
  {
   "cell_type": "code",
   "execution_count": 10,
   "id": "01d52037-6445-42b5-bdd3-72ebf658a013",
   "metadata": {},
   "outputs": [],
   "source": [
    "def call_gemini():\n",
    "    gemini = genai.GenerativeModel(\n",
    "        model_name='gemini-2.0-flash',\n",
    "        system_instruction=gemini_system \n",
    "    )\n",
    "\n",
    "    messages = []\n",
    "    for llama, gemini_message in zip(llama_messages, gemini_messages):\n",
    "        messages.append({\"role\": \"user\", \"parts\": [{\"text\": llama}]})\n",
    "        messages.append({\"role\": \"model\", \"parts\": [{\"text\": gemini_message}]})\n",
    "\n",
    "    messages.append({\"role\": \"user\", \"parts\": [{\"text\": llama_messages[-1]}]})\n",
    "\n",
    "    generation_config = genai.types.GenerationConfig(\n",
    "        max_output_tokens=150,\n",
    "        temperature=1.2  # Higher = more creative/assertive\n",
    "    )\n",
    "\n",
    "    response = gemini.generate_content(messages, generation_config=generation_config)\n",
    "\n",
    "    return response.text\n"
   ]
  },
  {
   "cell_type": "code",
   "execution_count": 11,
   "id": "5b2801da-0682-46a5-b581-db059a1dd4fc",
   "metadata": {},
   "outputs": [
    {
     "data": {
      "text/markdown": [
       "Overrated? Let me tell you something, the only thing overrated is the idea that anyone else even comes close to touching the sheer, unadulterated brilliance of Cristiano Ronaldo! Can't dribble? That's not just wrong, it's an insult to the very history of football!\n",
       "\n",
       "Let's be clear, we're not talking about parlor tricks and fancy footwork just for show. We're talking about *effective* dribbling, the kind that slices through defenses, leaving opponents grasping at air. Remember that goal against Atletico Madrid for Juventus? That wasn't just a dribble, it was a demolition! He took on players, twisted, turned, and left them utterly humiliated.\n",
       "\n",
       "People point to"
      ],
      "text/plain": [
       "<IPython.core.display.Markdown object>"
      ]
     },
     "metadata": {},
     "output_type": "display_data"
    }
   ],
   "source": [
    "display(Markdown(call_gemini()))"
   ]
  },
  {
   "cell_type": "code",
   "execution_count": 14,
   "id": "d136fa31-266a-4663-a40a-8ba861df0ef9",
   "metadata": {},
   "outputs": [
    {
     "name": "stdout",
     "output_type": "stream",
     "text": [
      "LLama:\n",
      "Messi is clearly the GOAT.\n",
      "\n",
      "Gemini:\n",
      "Oh really? Messi has never dominated like Ronaldo.\n",
      "\n",
      "LLama:\n",
      "That's a tired argument. Messi has carried teams to championships single-handedly, while Ronaldo constantly relies on his teammates for success. It's not even a contest, Messi reigns supreme!\n",
      "\n",
      "Gemini:\n",
      "Carried teams? Let's be honest, Messi has always been surrounded by incredible talent at Barcelona and PSG. Xavi, Iniesta, Neymar, Mbappe - he's never had to truly carry a team on his back. Meanwhile, Ronaldo dragged a mediocre Portugal team to win the 2016 Euros, a feat Messi has never accomplished with Argentina. And let's not forget his Champions League dominance with Manchester United and Real Madrid. He didn't just \"rely\" on his teammates, he elevated them. He made them better. That's the mark of a true leader and a GOAT.\n",
      "\n",
      "\n",
      "LLama:\n",
      "You're drinking Ronaldo's Kool-Aid, I see that much. A mediocre Portugal team winning with Ronaldo is still impressive, but it's nothing compared to the dominance Messi has shown consistently over two decades in elite competition. And as for \"elevating\" teammates when he was playing alongside Iniesta and Xavi at Barcelona, that's a bit rich considering all three knew how to create scoring opportunities without his help!\n",
      "\n",
      "Gemini:\n",
      "Dominance? Look, I'll grant you Messi's consistency, but let's not confuse consistency with impact. Ronaldo's impact is undeniable. He conquered the Premier League, La Liga, and Serie A, becoming a champion in each. Messi hasn't even stepped outside his comfort zone of Spain and France and has failed to win with PSG. As for elevating teammates, it's not just about assists or goals. It's about the mentality, the sheer force of will that Ronaldo brings to a team. He demands excellence, and he inspires those around him to reach his level. Iniesta and Xavi were incredible, no doubt, but Ronaldo's presence injects a level of ambition that few can match. And\n",
      "\n",
      "LLama:\n",
      "That's where you're wrong - Messi has successfully adapted to different environments, from Messi-controlled FC Barcelona to Messi-adjacent PSG, consistently outperforming and dominating wherever he goes. Meanwhile, Ronaldo's inability to carry weaker teams to titles (hello, Sporting CP and Manchester United against mediocre opponents) is a clear indication of his limitations in bigger games vs. high-profile matchups\n",
      "\n",
      "Gemini:\n",
      "Adapted? Please. Messi joined a PSG already overflowing with talent and still couldn't deliver the Champions League they craved. Meanwhile, Ronaldo dragged Manchester United to a second-place finish in the Premier League and top scorer in a struggling Juventus. As for Sporting CP, he was just a kid! You're holding him to standards that are completely unfair. But the fact remains: Ronaldo thrives under pressure. He has a hunger for big games that Messi simply doesn't possess. When the chips are down, Ronaldo steps up. Messi shrinks. He might score tap-ins against weak teams, but when the lights are brightest, Ronaldo is the one delivering moments of magic. And that's what separates a great player from the GOAT.\n",
      "\n",
      "LLama:\n",
      "That's a shallow analysis, focusing solely on \"big games\" and ignores the fact that Messi has consistently performed at an elite level in the biggest tournaments since his early 20s. You're giving too much credit to Ronaldo's youth team heroics and not enough weight to Messi's years of proven excellence under intense pressure - it's time to give the kid from Argentina the GOAT respect he deserves!\n",
      "\n",
      "Gemini:\n",
      "Proven excellence? Let's talk about proving it. How many international trophies did Messi win before 2021? Zero. How many times did he choke in the World Cup final? More than once. Ronaldo, on the other hand, led Portugal to their first-ever major trophy in 2016 and followed it up with a Nations League title. He's consistently delivered on the international stage, something Messi struggled with for years. He may have won the 2022 World Cup, but Ronaldo's impact and legacy are undeniable. He's a five-time Champions League winner, a record-breaking goalscorer, and a true global icon. He's the complete package. So, let'\n",
      "\n",
      "LLama:\n",
      "Save your \"Ronaldo is the complete package\" speech for the blind, because everyone with eyes can see that Messi's clutch gene is unmatched in international history. You're cherry-picking facts to fit your narrative, but it doesn't change the fact that Messi has consistently outscored, out-assisted, and out-dominates Ronaldo over a TWO-DECADE LONG BATTLE. The 2022 World Cup is proof of Messi's greatness, not some consolation prize for his earlier failures. Don't insult the Argentine legend!\n",
      "\n",
      "Gemini:\n",
      "Clutch gene? Tell that to the Argentina fans who watched him fail time and time again before 2021. One World Cup doesn't erase years of underperformance. And as for outscoring and out-assisting, that's a testament to playing in a system built entirely around him. Ronaldo has excelled in multiple leagues, adapting his game to different styles and teammates. He's a chameleon, a force of nature who can thrive anywhere. Messi is a specialist, a product of Barcelona's tiki-taka machine. And yes, the 2022 World Cup was a great moment for him, but it doesn't suddenly rewrite history. It's a nice chapter in his story, but Ronaldo\n",
      "\n"
     ]
    }
   ],
   "source": [
    "llama_messages = [\"Messi is clearly the GOAT.\"]\n",
    "gemini_messages = [\"Oh really? Messi has never dominated like Ronaldo.\"]\n",
    "\n",
    "\n",
    "print(f\"LLama:\\n{llama_messages[0]}\\n\")\n",
    "print(f\"Gemini:\\n{gemini_messages[0]}\\n\")\n",
    "\n",
    "for i in range(5):\n",
    "    llama_next = call_llama()\n",
    "    print(f\"LLama:\\n{llama_next}\\n\")\n",
    "    llama_messages.append(llama_next)\n",
    "    \n",
    "    gemini_next = call_gemini()\n",
    "    print(f\"Gemini:\\n{gemini_next}\\n\")\n",
    "    gemini_messages.append(gemini_next)"
   ]
  }
 ],
 "metadata": {
  "kaggle": {
   "accelerator": "none",
   "dataSources": [],
   "isGpuEnabled": false,
   "isInternetEnabled": true,
   "language": "python",
   "sourceType": "notebook"
  },
  "kernelspec": {
   "display_name": "Python 3 (ipykernel)",
   "language": "python",
   "name": "python3"
  },
  "language_info": {
   "codemirror_mode": {
    "name": "ipython",
    "version": 3
   },
   "file_extension": ".py",
   "mimetype": "text/x-python",
   "name": "python",
   "nbconvert_exporter": "python",
   "pygments_lexer": "ipython3",
   "version": "3.11.12"
  }
 },
 "nbformat": 4,
 "nbformat_minor": 5
}
